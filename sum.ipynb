{
  "nbformat": 4,
  "nbformat_minor": 0,
  "metadata": {
    "colab": {
      "provenance": [],
      "authorship_tag": "ABX9TyMUXp03bRMij1vVwj/wTpNF"
    },
    "kernelspec": {
      "name": "python3",
      "display_name": "Python 3"
    },
    "language_info": {
      "name": "python"
    }
  },
  "cells": [
    {
      "cell_type": "code",
      "execution_count": null,
      "metadata": {
        "colab": {
          "base_uri": "https://localhost:8080/"
        },
        "id": "ixcX4fkJx7Kw",
        "outputId": "97791663-6c6b-423e-ca5f-ada7786dfd98"
      },
      "outputs": [
        {
          "output_type": "stream",
          "name": "stdout",
          "text": [
            "Collecting google-search-results\n",
            "  Downloading google_search_results-2.4.2.tar.gz (18 kB)\n",
            "  Preparing metadata (setup.py) ... \u001b[?25l\u001b[?25hdone\n",
            "Requirement already satisfied: requests in /usr/local/lib/python3.10/dist-packages (from google-search-results) (2.31.0)\n",
            "Requirement already satisfied: charset-normalizer<4,>=2 in /usr/local/lib/python3.10/dist-packages (from requests->google-search-results) (3.3.2)\n",
            "Requirement already satisfied: idna<4,>=2.5 in /usr/local/lib/python3.10/dist-packages (from requests->google-search-results) (3.6)\n",
            "Requirement already satisfied: urllib3<3,>=1.21.1 in /usr/local/lib/python3.10/dist-packages (from requests->google-search-results) (2.0.7)\n",
            "Requirement already satisfied: certifi>=2017.4.17 in /usr/local/lib/python3.10/dist-packages (from requests->google-search-results) (2023.11.17)\n",
            "Building wheels for collected packages: google-search-results\n",
            "  Building wheel for google-search-results (setup.py) ... \u001b[?25l\u001b[?25hdone\n",
            "  Created wheel for google-search-results: filename=google_search_results-2.4.2-py3-none-any.whl size=32003 sha256=c48963244ca0c8caff15c226182736ba7206185634668fdbe447e06fd250520f\n",
            "  Stored in directory: /root/.cache/pip/wheels/d3/b2/c3/03302d12bb44a2cdff3c9371f31b72c0c4e84b8d2285eeac53\n",
            "Successfully built google-search-results\n",
            "Installing collected packages: google-search-results\n",
            "Successfully installed google-search-results-2.4.2\n",
            "Requirement already satisfied: google-search-results in /usr/local/lib/python3.10/dist-packages (2.4.2)\n",
            "Requirement already satisfied: requests in /usr/local/lib/python3.10/dist-packages (from google-search-results) (2.31.0)\n",
            "Requirement already satisfied: charset-normalizer<4,>=2 in /usr/local/lib/python3.10/dist-packages (from requests->google-search-results) (3.3.2)\n",
            "Requirement already satisfied: idna<4,>=2.5 in /usr/local/lib/python3.10/dist-packages (from requests->google-search-results) (3.6)\n",
            "Requirement already satisfied: urllib3<3,>=1.21.1 in /usr/local/lib/python3.10/dist-packages (from requests->google-search-results) (2.0.7)\n",
            "Requirement already satisfied: certifi>=2017.4.17 in /usr/local/lib/python3.10/dist-packages (from requests->google-search-results) (2023.11.17)\n"
          ]
        }
      ],
      "source": [
        "!pip install --upgrade google-search-results\n",
        "!pip install google-search-results\n",
        "# !pip install serpapi"
      ]
    },
    {
      "cell_type": "code",
      "source": [
        "queries=[\"What is the market size of Enphase Energy (Headquarters: Hyderabad, India)\",\n",
        "\"What is the competitive landscape of Enphase Energy (Headquarters: Hyderabad, India)\",\" What are the business models of Enphase Energy (Headquarters: Hyderabad, India)\",\n",
        "\n",
        "\"What are the revenue streams of Enphase Energy (Headquarters: Hyderabad, India)\",\"What is the pricing model of Enphase Energy (Headquarters: Hyderabad, India)\",\n",
        "\"What is the share price of Enphase Energy (Headquarters: Hyderabad, India)\",\"What is the profit margin of Enphase Energy (Headquarters: Hyderabad, India)\",\n",
        "\"What is the total user base of Enphase Energy (Headquarters: Hyderabad, India)\",\"How many paying customers do they have of Enphase Energy (Headquarters: Hyderabad, India)\",\n",
        "\n",
        "\"What are the social media platforms of Enphase Energy (Headquarters: Hyderabad, India)\",\"How many followers on social media platforms for of Enphase Energy (Headquarters: Hyderabad, India)\",\n",
        "\"What is the funding info of Enphase Energy (Headquarters: Hyderabad, India)\",\"What is the vision and mission of Enphase Energy (Headquarters: Hyderabad, India)\",\"What are the key capabilities of Enphase Energy (Headquarters: Hyderabad, India) \",\"What is their marketing strategy of Enphase Energy (Headquarters: Hyderabad, India)\",\n",
        "\"What is the business strategy of Enphase Energy (Headquarters: Hyderabad, India)\",\"Does ‘company’ have any collaborations or partnerships with Enphase Energy (Headquarters: Hyderabad, India)\",\"What is the cash flow of Enphase Energy (Headquarters: Hyderabad, India)\"\n",
        "]\n",
        "queries\n"
      ],
      "metadata": {
        "colab": {
          "base_uri": "https://localhost:8080/"
        },
        "id": "cuZFo5_LzDvC",
        "outputId": "fd3f0d95-75e8-428d-f755-a420ee880b6e"
      },
      "execution_count": null,
      "outputs": [
        {
          "output_type": "execute_result",
          "data": {
            "text/plain": [
              "['What is the market size of Enphase Energy (Headquarters: Hyderabad, India)',\n",
              " 'What is the competitive landscape of Enphase Energy (Headquarters: Hyderabad, India)',\n",
              " ' What are the business models of Enphase Energy (Headquarters: Hyderabad, India)',\n",
              " 'What are the revenue streams of Enphase Energy (Headquarters: Hyderabad, India)',\n",
              " 'What is the pricing model of Enphase Energy (Headquarters: Hyderabad, India)',\n",
              " 'What is the share price of Enphase Energy (Headquarters: Hyderabad, India)',\n",
              " 'What is the profit margin of Enphase Energy (Headquarters: Hyderabad, India)',\n",
              " 'What is the total user base of Enphase Energy (Headquarters: Hyderabad, India)',\n",
              " 'How many paying customers do they have of Enphase Energy (Headquarters: Hyderabad, India)',\n",
              " 'What are the social media platforms of Enphase Energy (Headquarters: Hyderabad, India)',\n",
              " 'How many followers on social media platforms for of Enphase Energy (Headquarters: Hyderabad, India)',\n",
              " 'What is the funding info of Enphase Energy (Headquarters: Hyderabad, India)',\n",
              " 'What is the vision and mission of Enphase Energy (Headquarters: Hyderabad, India)',\n",
              " 'What are the key capabilities of Enphase Energy (Headquarters: Hyderabad, India) ',\n",
              " 'What is their marketing strategy of Enphase Energy (Headquarters: Hyderabad, India)',\n",
              " 'What is the business strategy of Enphase Energy (Headquarters: Hyderabad, India)',\n",
              " 'Does ‘company’ have any collaborations or partnerships with Enphase Energy (Headquarters: Hyderabad, India)',\n",
              " 'What is the cash flow of Enphase Energy (Headquarters: Hyderabad, India)']"
            ]
          },
          "metadata": {},
          "execution_count": 2
        }
      ]
    },
    {
      "cell_type": "code",
      "source": [
        "from serpapi import GoogleSearch\n",
        "def SERPAPI(query):\n",
        "  params = {\n",
        "    \"q\": query,\n",
        "    \"hl\": \"en\",\n",
        "    \"gl\": \"us\",\n",
        "    \"api_key\": \"3f5a92720a2d9a24b21b98d9567bd0aba2c63159727a72416676b6c3928f100e\"\n",
        "  }\n",
        "  search = GoogleSearch(params)\n",
        "  results = search.get_dict()\n",
        "  return results"
      ],
      "metadata": {
        "id": "M427ebeoyEiL"
      },
      "execution_count": null,
      "outputs": []
    },
    {
      "cell_type": "code",
      "source": [
        "from bs4 import BeautifulSoup\n",
        "import re\n",
        "def clean_html_and_extract_text(html_text):\n",
        "    try:\n",
        "        soup = BeautifulSoup(html_text, 'html.parser')\n",
        "        text_content = soup.get_text(separator=' ', strip=True)\n",
        "        # Replace multiple consecutive newlines with a single newline\n",
        "        text_content = re.sub('\\n+', '\\n', text_content)\n",
        "\n",
        "\n",
        "        result = text_content.split('\\n')\n",
        "        result = [x for x in result if x != '']\n",
        "        return \"\\n\".join(result)\n",
        "    except Exception as e:\n",
        "        print(f\"Failed with parser. Error: {e}\")\n",
        "        return None"
      ],
      "metadata": {
        "id": "6dnqNop-yLZN"
      },
      "execution_count": null,
      "outputs": []
    },
    {
      "cell_type": "code",
      "source": [
        "import requests\n",
        "def fetch_content(url):\n",
        "    try:\n",
        "        headers = {\n",
        "            'User-Agent': 'Mozilla/5.0 (Windows NT 10.0; Win64; x64) AppleWebKit/537.36 (KHTML, like Gecko) Chrome/91.0.4472.124 Safari/537.36'\n",
        "        }\n",
        "        response = requests.get(url, headers=headers)\n",
        "        response.raise_for_status()\n",
        "        # Check if the content is PDF\n",
        "        if 'application/pdf' in response.headers.get('Content-Type', ''):\n",
        "            return response.content, 'pdf'\n",
        "        else:\n",
        "            # return response.text, 'html'\n",
        "            # Extract text from HTML content using BeautifulSoup\n",
        "            soup = BeautifulSoup(response.text, 'html.parser')\n",
        "            text = soup.get_text(separator='\\n')  # Separate text with newlines\n",
        "            return text, 'html'\n",
        "\n",
        "    except requests.exceptions.RequestException as e:\n",
        "        print(f\"Failed to fetch content from {url}. Error: {e}\")\n",
        "        return None, None"
      ],
      "metadata": {
        "id": "6Prr8BWRyNXe"
      },
      "execution_count": null,
      "outputs": []
    },
    {
      "cell_type": "code",
      "source": [
        "if \"related_question\" in results:\n",
        "  file_path = r\"/content/Whereistheheadquarterslocationrelated.txt\"\n",
        "  with open(file_path, 'a') as file:\n",
        "      for string in results['related_questions']:\n",
        "          # Redirect the output to the file\n",
        "          if 'question' in string:\n",
        "            file.write(string['question'] + '\\n')\n",
        "          if 'title' in string:\n",
        "            file.write(string['title'] + '\\n')\n",
        "          if 'snippet' in string:\n",
        "            file.write(string['snippet']+ '\\n')\n",
        "          if 'link' in string:\n",
        "            html_content,st=fetch_content(string['link'])\n",
        "            html_content=clean_html_and_extract_text(html_content)\n",
        "            file.write(html_content)\n",
        "  print(\"Done writing to:\", file_path)\n"
      ],
      "metadata": {
        "id": "ATGa9bBAyPvI"
      },
      "execution_count": null,
      "outputs": []
    },
    {
      "cell_type": "code",
      "source": [
        "def summarization_text(content):\n",
        "  url = \"https://www.semrush.com/goodcontent/api/summary-generator/generate-summary/\"\n",
        "  payload = {\n",
        "    \"text\": content,\n",
        "    \"format\": \"paragraph\",\n",
        "    \"length_penalty\": 0\n",
        "  }\n",
        "  # Make the POST request\n",
        "  response = requests.post(url, json=payload)\n",
        "  # Check if the request was successful (status code 200)\n",
        "  if response.status_code == 200:\n",
        "    # Parse and print the response JSON\n",
        "    response_data = response.json()\n",
        "    return response_data[\"summary\"]\n",
        "  else:\n",
        "    return 'None'"
      ],
      "metadata": {
        "id": "IMcGljSdyTE1"
      },
      "execution_count": null,
      "outputs": []
    },
    {
      "cell_type": "code",
      "source": [
        "\n",
        "\n",
        "# Open a file in write mode ('w')\n",
        "file_path = r\"/content/question3.txt\"\n",
        "c=0\n",
        "\n",
        "for query in queries:\n",
        "  results=SERPAPI(query)\n",
        "  with open(file_path, 'a') as file:\n",
        "    file.write(query+\"\\n\")\n",
        "    try:\n",
        "      if 'answer_box' in results:\n",
        "          for string in results['answer_box']:\n",
        "              if 'answer' in string:\n",
        "                file.write(\"\\t\"+string['answer'] + '\\n')\n",
        "              if 'title' in string:\n",
        "                file.write(\"\\t\\t\"+string['title'] + '\\n')\n",
        "              if 'snippet' in string:\n",
        "                file.write(\"\\t\\t\\t\"+string['snippet'] + '\\n')\n",
        "              if 'link' in string:\n",
        "                html_content,st=fetch_content(string['link'])\n",
        "                if html_content:\n",
        "                  html_content=clean_html_and_extract_text(html_content)\n",
        "                if html_content:\n",
        "                  html_content=summarization_text(html_content)\n",
        "                if html_content:\n",
        "                  lines=html_content.split(\"\\n\")\n",
        "                  for line in lines:\n",
        "                    file.write(\"\\t\\t\\t\\t\"+line+\"\\n\")\n",
        "    except Exception as ex:\n",
        "      print(\"Error ocurred\")\n",
        "\n",
        "\n",
        "\n",
        "    try:\n",
        "      if 'organic_results' in results:\n",
        "          for string in results['organic_results']:\n",
        "              # Redirect the output to the file\n",
        "              if 'title' in string:\n",
        "                file.write(\"\\t\"+string['title'] + '\\n')\n",
        "              if 'snippet' in string:\n",
        "                file.write(\"\\t\\t\"+string['snippet'] + '\\n')\n",
        "              if 'link' in string:\n",
        "                html_content,st=fetch_content(string['link'])\n",
        "                if html_content:\n",
        "                  html_content=clean_html_and_extract_text(html_content)\n",
        "                if html_content:\n",
        "                  html_content=summarization_text(html_content)\n",
        "                if html_content:\n",
        "                  lines=html_content.split(\"\\n\")\n",
        "                  for line in lines:\n",
        "                    file.write(\"\\t\\t\\t\"+line+\"\\n\")\n",
        "    except Exception as ex:\n",
        "      print(\"Error ocurred\")\n",
        "\n",
        "\n",
        "\n",
        "    try:\n",
        "      if 'related_questions' in results:\n",
        "          for string in results['related_questions']:\n",
        "              # Redirect the output to the file\n",
        "              if 'question' in string:\n",
        "                file.write(\"\\t\"+string['question'] + '\\n')\n",
        "              if 'title' in string:\n",
        "                file.write(\"\\t\\t\"+string['title'] + '\\n')\n",
        "              if 'snippet' in string:\n",
        "                file.write(\"\\t\\t\\t\"+string['snippet']+ '\\n')\n",
        "              if 'link' in string:\n",
        "                html_content,st=fetch_content(string['link'])\n",
        "                if html_content:\n",
        "                  html_content=clean_html_and_extract_text(html_content)\n",
        "                if html_content:\n",
        "                  html_content=summarization_text(html_content)\n",
        "                if html_content:\n",
        "                  lines=html_content.split(\"\\n\")\n",
        "                  for line in lines:\n",
        "                    file.write(\"\\t\\t\\t\\t\"+line+\"\\n\")\n",
        "\n",
        "    except Exception as ex:\n",
        "      print(\"Error ocurred\")\n",
        "    file.write(\"\\n\\n\\n\")\n",
        "  c+=1\n",
        "  print(c)\n",
        "\n"
      ],
      "metadata": {
        "colab": {
          "base_uri": "https://localhost:8080/"
        },
        "id": "mvouUXsmz4oE",
        "outputId": "3a91d700-59fa-4b77-8367-dc8839d44c16"
      },
      "execution_count": null,
      "outputs": [
        {
          "output_type": "stream",
          "name": "stdout",
          "text": [
            "Failed to fetch content from https://www.comparably.com/companies/enphase-energy/competitors#:~:text=Enphase%20Energy%20competitors%20include%20SolarEdge,eNPS%2C%20Gender%20and%20Diversity%20Scores.. Error: 403 Client Error: Forbidden for url: https://www.comparably.com/companies/enphase-energy/competitors#:~:text=Enphase%20Energy%20competitors%20include%20SolarEdge,eNPS%2C%20Gender%20and%20Diversity%20Scores.\n",
            "1\n",
            "Failed to fetch content from https://www.glassdoor.co.in/Reviews/Enphase-Energy-great-work-environment-Reviews-EI_IE370454.0,14_KH15,37.htm. Error: 403 Client Error: Forbidden for url: https://www.glassdoor.co.in/Reviews/Enphase-Energy-great-work-environment-Reviews-EI_IE370454.0,14_KH15,37.htm\n",
            "Failed to fetch content from https://www.comparably.com/companies/enphase-energy/competitors#:~:text=Enphase%20Energy%20competitors%20include%20SolarEdge,eNPS%2C%20Gender%20and%20Diversity%20Scores.. Error: 403 Client Error: Forbidden for url: https://www.comparably.com/companies/enphase-energy/competitors#:~:text=Enphase%20Energy%20competitors%20include%20SolarEdge,eNPS%2C%20Gender%20and%20Diversity%20Scores.\n",
            "2\n"
          ]
        },
        {
          "output_type": "stream",
          "name": "stderr",
          "text": [
            "WARNING:bs4.dammit:Some characters could not be decoded, and were replaced with REPLACEMENT CHARACTER.\n"
          ]
        },
        {
          "output_type": "stream",
          "name": "stdout",
          "text": [
            "Error ocurred\n",
            "Failed to fetch content from https://support.enphase.com/s/article/how-does-the-enphase-energy-system-work#:~:text=The%20Enphase%20Energy%20System%20brings,and%20sell%20your%20own%20power.. Error: HTTPSConnectionPool(host='support.enphase.com', port=443): Max retries exceeded with url: /s/article/how-does-the-enphase-energy-system-work (Caused by SSLError(SSLCertVerificationError(1, '[SSL: CERTIFICATE_VERIFY_FAILED] certificate verify failed: unable to get local issuer certificate (_ssl.c:1007)')))\n",
            "3\n",
            "Failed to fetch content from https://www.reuters.com/business/energy/enphase-energy-sees-revenue-below-estimates-weak-us-demand-shares-fall-2023-07-27/. Error: 401 Client Error: HTTP Forbidden for url: https://www.reuters.com/business/energy/enphase-energy-sees-revenue-below-estimates-weak-us-demand-shares-fall-2023-07-27/\n",
            "Failed to fetch content from https://www.macrotrends.net/stocks/charts/ENPH/enphase-energy/revenue#:~:text=Enphase%20Energy%20revenue%20for%20the%20twelve%20months%20ending%20September%2030,a%2078.46%25%20increase%20from%202020.. Error: 403 Client Error: Forbidden for url: https://www.macrotrends.net/stocks/charts/ENPH/enphase-energy/revenue#:~:text=Enphase%20Energy%20revenue%20for%20the%20twelve%20months%20ending%20September%2030,a%2078.46%25%20increase%20from%202020.\n",
            "4\n",
            "Failed to fetch content from https://www.reddit.com/r/enphase/comments/14lofdt/enphase_5p_price/. Error: 403 Client Error: Blocked for url: https://www.reddit.com/r/enphase/comments/14lofdt/enphase_5p_price/\n",
            "Failed to fetch content from https://www.comparably.com/companies/enphase-energy/competitors#:~:text=Enphase%20Energy%20competitors%20include%20SolarEdge,eNPS%2C%20Gender%20and%20Diversity%20Scores.. Error: 403 Client Error: Forbidden for url: https://www.comparably.com/companies/enphase-energy/competitors#:~:text=Enphase%20Energy%20competitors%20include%20SolarEdge,eNPS%2C%20Gender%20and%20Diversity%20Scores.\n",
            "5\n",
            "Failed to fetch content from https://www.indmoney.com/us-stocks/enph/enphase-energy-inc-share-price. Error: 403 Client Error: Forbidden for url: https://www.indmoney.com/us-stocks/enph/enphase-energy-inc-share-price\n",
            "6\n",
            "Failed to fetch content from https://www.macrotrends.net/stocks/charts/ENPH/enphase-energy/profit-margins. Error: 403 Client Error: Forbidden for url: https://www.macrotrends.net/stocks/charts/ENPH/enphase-energy/profit-margins\n",
            "Failed to fetch content from https://www.macrotrends.net/stocks/charts/ENPH/enphase-energy/operating-margin. Error: 403 Client Error: Forbidden for url: https://www.macrotrends.net/stocks/charts/ENPH/enphase-energy/operating-margin\n",
            "7\n",
            "Failed to fetch content from https://www.comparably.com/companies/enphase-energy/competitors#:~:text=Enphase%20Energy%20competitors%20include%20SolarEdge,eNPS%2C%20Gender%20and%20Diversity%20Scores.. Error: 403 Client Error: Forbidden for url: https://www.comparably.com/companies/enphase-energy/competitors#:~:text=Enphase%20Energy%20competitors%20include%20SolarEdge,eNPS%2C%20Gender%20and%20Diversity%20Scores.\n",
            "8\n",
            "Failed to fetch content from https://www.reddit.com/r/enphase/comments/15no6qg/enphase_customer_support/. Error: 403 Client Error: Blocked for url: https://www.reddit.com/r/enphase/comments/15no6qg/enphase_customer_support/\n",
            "Failed to fetch content from https://www.comparably.com/companies/enphase-energy/competitors#:~:text=Enphase%20Energy%20competitors%20include%20SolarEdge,eNPS%2C%20Gender%20and%20Diversity%20Scores.. Error: 403 Client Error: Forbidden for url: https://www.comparably.com/companies/enphase-energy/competitors#:~:text=Enphase%20Energy%20competitors%20include%20SolarEdge,eNPS%2C%20Gender%20and%20Diversity%20Scores.\n",
            "9\n",
            "Failed to fetch content from https://support.enphase.com/s/article/How-to-share-my-Enlighten-data-on-Social-media. Error: HTTPSConnectionPool(host='support.enphase.com', port=443): Max retries exceeded with url: /s/article/How-to-share-my-Enlighten-data-on-Social-media (Caused by SSLError(SSLCertVerificationError(1, '[SSL: CERTIFICATE_VERIFY_FAILED] certificate verify failed: unable to get local issuer certificate (_ssl.c:1007)')))\n",
            "Failed to fetch content from https://support.enphase.com/s/question/0D53m00009SKVLwCAP/how-do-i-install-the-enphase-app-i-have-an-android-phone-and-have-no-idea-how-to-install-any-app#:~:text=Once%20you're%20on%20the,to%20whatever%20screen%20you%20want.. Error: HTTPSConnectionPool(host='support.enphase.com', port=443): Max retries exceeded with url: /s/question/0D53m00009SKVLwCAP/how-do-i-install-the-enphase-app-i-have-an-android-phone-and-have-no-idea-how-to-install-any-app (Caused by SSLError(SSLCertVerificationError(1, '[SSL: CERTIFICATE_VERIFY_FAILED] certificate verify failed: unable to get local issuer certificate (_ssl.c:1007)')))\n",
            "Failed to fetch content from https://www.comparably.com/companies/enphase-energy/competitors#:~:text=Enphase%20Energy%20competitors%20include%20SolarEdge,eNPS%2C%20Gender%20and%20Diversity%20Scores.. Error: 403 Client Error: Forbidden for url: https://www.comparably.com/companies/enphase-energy/competitors#:~:text=Enphase%20Energy%20competitors%20include%20SolarEdge,eNPS%2C%20Gender%20and%20Diversity%20Scores.\n",
            "10\n",
            "Failed to fetch content from https://support.enphase.com/s/article/How-to-share-my-Enlighten-data-on-Social-media. Error: HTTPSConnectionPool(host='support.enphase.com', port=443): Max retries exceeded with url: /s/article/How-to-share-my-Enlighten-data-on-Social-media (Caused by SSLError(SSLCertVerificationError(1, '[SSL: CERTIFICATE_VERIFY_FAILED] certificate verify failed: unable to get local issuer certificate (_ssl.c:1007)')))\n",
            "Failed to fetch content from https://blog.elink.io/instagram-features/. Error: HTTPSConnectionPool(host='blog.elink.io', port=443): Max retries exceeded with url: /instagram-features/ (Caused by SSLError(SSLCertVerificationError(1, '[SSL: CERTIFICATE_VERIFY_FAILED] certificate verify failed: unable to get local issuer certificate (_ssl.c:1007)')))\n",
            "Failed to fetch content from https://www.comparably.com/companies/enphase-energy/competitors#:~:text=Enphase%20Energy%20competitors%20include%20SolarEdge,eNPS%2C%20Gender%20and%20Diversity%20Scores.. Error: 403 Client Error: Forbidden for url: https://www.comparably.com/companies/enphase-energy/competitors#:~:text=Enphase%20Energy%20competitors%20include%20SolarEdge,eNPS%2C%20Gender%20and%20Diversity%20Scores.\n",
            "11\n"
          ]
        },
        {
          "output_type": "stream",
          "name": "stderr",
          "text": [
            "WARNING:bs4.dammit:Some characters could not be decoded, and were replaced with REPLACEMENT CHARACTER.\n"
          ]
        },
        {
          "output_type": "stream",
          "name": "stdout",
          "text": [
            "Failed to fetch content from https://www.macrotrends.net/stocks/charts/ENPH/enphase-energy/revenue#:~:text=Enphase%20Energy%20revenue%20for%20the,a%2068.65%25%20increase%20from%202021.. Error: 403 Client Error: Forbidden for url: https://www.macrotrends.net/stocks/charts/ENPH/enphase-energy/revenue#:~:text=Enphase%20Energy%20revenue%20for%20the,a%2068.65%25%20increase%20from%202021.\n",
            "12\n",
            "Failed to fetch content from https://www.comparably.com/companies/enphase-energy/mission. Error: 403 Client Error: Forbidden for url: https://www.comparably.com/companies/enphase-energy/mission\n"
          ]
        },
        {
          "output_type": "stream",
          "name": "stderr",
          "text": [
            "WARNING:bs4.dammit:Some characters could not be decoded, and were replaced with REPLACEMENT CHARACTER.\n"
          ]
        },
        {
          "output_type": "stream",
          "name": "stdout",
          "text": [
            "Error ocurred\n",
            "13\n",
            "Failed to fetch content from https://support.enphase.com/s/article/how-does-the-enphase-energy-system-work. Error: HTTPSConnectionPool(host='support.enphase.com', port=443): Max retries exceeded with url: /s/article/how-does-the-enphase-energy-system-work (Caused by SSLError(SSLCertVerificationError(1, '[SSL: CERTIFICATE_VERIFY_FAILED] certificate verify failed: unable to get local issuer certificate (_ssl.c:1007)')))\n",
            "Failed to fetch content from https://support.enphase.com/s/article/how-does-the-enphase-energy-system-work#:~:text=The%20Enphase%20Energy%20System%20brings,and%20sell%20your%20own%20power.. Error: HTTPSConnectionPool(host='support.enphase.com', port=443): Max retries exceeded with url: /s/article/how-does-the-enphase-energy-system-work (Caused by SSLError(SSLCertVerificationError(1, '[SSL: CERTIFICATE_VERIFY_FAILED] certificate verify failed: unable to get local issuer certificate (_ssl.c:1007)')))\n"
          ]
        },
        {
          "output_type": "stream",
          "name": "stderr",
          "text": [
            "WARNING:bs4.dammit:Some characters could not be decoded, and were replaced with REPLACEMENT CHARACTER.\n"
          ]
        },
        {
          "output_type": "stream",
          "name": "stdout",
          "text": [
            "Error ocurred\n",
            "14\n"
          ]
        },
        {
          "output_type": "stream",
          "name": "stderr",
          "text": [
            "WARNING:bs4.dammit:Some characters could not be decoded, and were replaced with REPLACEMENT CHARACTER.\n"
          ]
        },
        {
          "output_type": "stream",
          "name": "stdout",
          "text": [
            "Error ocurred\n",
            "Failed to fetch content from https://www.comparably.com/companies/enphase-energy/competitors#:~:text=Enphase%20Energy%20competitors%20include%20SolarEdge,eNPS%2C%20Gender%20and%20Diversity%20Scores.. Error: 403 Client Error: Forbidden for url: https://www.comparably.com/companies/enphase-energy/competitors#:~:text=Enphase%20Energy%20competitors%20include%20SolarEdge,eNPS%2C%20Gender%20and%20Diversity%20Scores.\n",
            "15\n"
          ]
        },
        {
          "output_type": "stream",
          "name": "stderr",
          "text": [
            "WARNING:bs4.dammit:Some characters could not be decoded, and were replaced with REPLACEMENT CHARACTER.\n"
          ]
        },
        {
          "output_type": "stream",
          "name": "stdout",
          "text": [
            "Error ocurred\n",
            "16\n",
            "17\n",
            "Failed to fetch content from https://www.macrotrends.net/stocks/charts/ENPH/enphase-energy/cash-flow-from-operating-activities. Error: 403 Client Error: Forbidden for url: https://www.macrotrends.net/stocks/charts/ENPH/enphase-energy/cash-flow-from-operating-activities\n",
            "Failed to fetch content from https://www.macrotrends.net/stocks/charts/ENPH/enphase-energy/cash-on-hand#:~:text=Enphase%20Energy%20cash%20on%20hand%20for%20the%20quarter%20ending%20September,a%2049.64%25%20increase%20from%202020.. Error: 403 Client Error: Forbidden for url: https://www.macrotrends.net/stocks/charts/ENPH/enphase-energy/cash-on-hand#:~:text=Enphase%20Energy%20cash%20on%20hand%20for%20the%20quarter%20ending%20September,a%2049.64%25%20increase%20from%202020.\n",
            "18\n"
          ]
        }
      ]
    }
  ]
}