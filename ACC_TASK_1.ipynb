{
 "cells": [
  {
   "cell_type": "code",
   "execution_count": 1,
   "id": "218c38ba-73aa-46aa-b0f4-4f44c9a89198",
   "metadata": {},
   "outputs": [],
   "source": [
    "import os\n",
    "import xml.etree.ElementTree as ET\n",
    "from urllib.parse import urlparse\n",
    "from bs4 import BeautifulSoup\n",
    "import re\n",
    "import requests\n",
    "import fitz\n",
    "import hashlib"
   ]
  },
  {
   "cell_type": "code",
   "execution_count": 2,
   "id": "cf4c1096-583b-4b78-9203-2033b84ef059",
   "metadata": {},
   "outputs": [],
   "source": [
    "def parse_sitemap(sitemap_path):\n",
    "    try:\n",
    "        # Parsing\n",
    "        tree = ET.parse(sitemap_path)\n",
    "        root = tree.getroot()\n",
    "        # Define the XML namespace\n",
    "        ns = {'ns': 'http://www.sitemaps.org/schemas/sitemap/0.9'}\n",
    "        # Find all URL elements in the sitemap\n",
    "        url_elements = root.findall('.//ns:url/ns:loc', namespaces=ns)\n",
    "        # Extract URLs from the elements\n",
    "        url_list = [url_element.text for url_element in url_elements]\n",
    "        return url_list\n",
    "    except Exception as e:\n",
    "        print(f\"Error parsing sitemap: {e}\")\n",
    "        return []"
   ]
  },
  {
   "cell_type": "code",
<<<<<<< HEAD
   "execution_count": 3,
=======
   "execution_count": 13,
>>>>>>> a13da7941e126ae604f32e0bbe98498ebf2f1358
   "id": "d9dd61dd-d1e6-4668-b132-ce45ff64fae5",
   "metadata": {},
   "outputs": [],
   "source": [
    "def generate_filename(url):\n",
    "    hashed_url = hashlib.md5(url.encode()).hexdigest()\n",
    "    parsed_url = urlparse(url)\n",
    "    truncated_path = \"_\".join(parsed_url.path.split(\"/\")[-3:])  # Take the last 3 components of the path\n",
    "    return f\"crawled_{hashed_url}_{truncated_path}\""
   ]
  },
  {
   "cell_type": "code",
<<<<<<< HEAD
   "execution_count": 4,
=======
   "execution_count": 3,
>>>>>>> a13da7941e126ae604f32e0bbe98498ebf2f1358
   "id": "8a6313f5-c975-4189-a455-1f5b3d7a13b4",
   "metadata": {},
   "outputs": [],
   "source": [
    "def clean_html_and_extract_text(html_text):\n",
    "    try:\n",
    "        soup = BeautifulSoup(html_text, 'html.parser')\n",
    "        text_content = soup.get_text(separator=' ', strip=True)\n",
<<<<<<< HEAD
    "        # # Replace multiple spaces with a single space\n",
    "        # cleaned_text = re.sub(r'\\s+', ' ', text_content)  \n",
    "        # # Remove non-alphanumeric characters\n",
    "        # cleaned_text = re.sub(r'[^\\w\\s]', '', cleaned_text)  \n",
    "        # # Normalize the text (convert to lowercase)\n",
    "        # cleaned_text = cleaned_text.lower()\n",
    "        # return cleaned_text\n",
    "        result = text_content.split('\\n')\n",
    "        result = [x for x in result if x != '']\n",
    "        return \"\\n\".join(result)\n",
=======
    "        # Replace multiple spaces with a single space\n",
    "        cleaned_text = re.sub(r'\\s+', ' ', text_content)  \n",
    "        # Remove non-alphanumeric characters\n",
    "        cleaned_text = re.sub(r'[^\\w\\s]', '', cleaned_text)  \n",
    "        # Normalize the text (convert to lowercase)\n",
    "        cleaned_text = cleaned_text.lower()\n",
    "        return cleaned_text\n",
>>>>>>> a13da7941e126ae604f32e0bbe98498ebf2f1358
    "    except Exception as e:\n",
    "        print(f\"Failed with parser. Error: {e}\")\n",
    "        return None"
   ]
  },
  {
   "cell_type": "code",
<<<<<<< HEAD
   "execution_count": 5,
=======
   "execution_count": 4,
>>>>>>> a13da7941e126ae604f32e0bbe98498ebf2f1358
   "id": "464be8f0-23d5-45b1-b3b2-bee1e541f957",
   "metadata": {},
   "outputs": [],
   "source": [
    "def fetch_content(url):\n",
    "    try:\n",
    "        headers = {\n",
    "            'User-Agent': 'Mozilla/5.0 (Windows NT 10.0; Win64; x64) AppleWebKit/537.36 (KHTML, like Gecko) Chrome/91.0.4472.124 Safari/537.36'\n",
    "        }\n",
    "        response = requests.get(url, headers=headers)\n",
    "        response.raise_for_status()\n",
    "\n",
    "        # Check if the content is PDF\n",
    "        if 'application/pdf' in response.headers.get('Content-Type', ''):\n",
    "            return response.content, 'pdf'\n",
    "        else:\n",
<<<<<<< HEAD
    "            # return response.text, 'html'\n",
    "\n",
    "            # Extract text from HTML content using BeautifulSoup\n",
    "            soup = BeautifulSoup(response.text, 'html.parser')\n",
    "            text = soup.get_text(separator='\\n')  # Separate text with newlines\n",
    "            return text, 'html'\n",
=======
    "            return response.text, 'html'\n",
>>>>>>> a13da7941e126ae604f32e0bbe98498ebf2f1358
    "\n",
    "    except requests.exceptions.RequestException as e:\n",
    "        print(f\"Failed to fetch content from {url}. Error: {e}\")\n",
    "        return None, None"
   ]
  },
  {
   "cell_type": "code",
<<<<<<< HEAD
   "execution_count": 6,
=======
   "execution_count": 5,
>>>>>>> a13da7941e126ae604f32e0bbe98498ebf2f1358
   "id": "3c0b2cb8-812e-4a5e-8500-3b01f7853d4f",
   "metadata": {},
   "outputs": [],
   "source": [
    "def save_to_file(content, folder_path, filename,):\n",
    "    try:\n",
    "        if content is not None:\n",
    "            # Create the folder if it doesn't exist\n",
    "            if not os.path.exists(folder_path):\n",
    "                os.makedirs(folder_path)\n",
    "            file_path = os.path.join(folder_path, filename)\n",
    "            # Write the content to the file\n",
    "            with open(file_path,'w', encoding='utf-8') as file:\n",
<<<<<<< HEAD
    "            #     file.write(content)\n",
    "            # Split the text into lines and write each line with a newline character\n",
    "                lines = extracted_text.split('\\n')\n",
    "                for line in lines:\n",
    "                    file.write(line.strip())  # Remove leading/trailing whitespaces\n",
    "                    file.write('\\n')  # Add a newline character\n",
=======
    "                file.write(content)\n",
>>>>>>> a13da7941e126ae604f32e0bbe98498ebf2f1358
    "    except Exception as e:\n",
    "        print(f\"Error saving to file. Error: {e}\")"
   ]
  },
  {
   "cell_type": "code",
<<<<<<< HEAD
   "execution_count": 45,
   "id": "2c057b49-c49f-45c3-92ae-a12b56616dc8",
   "metadata": {},
   "outputs": [
    {
     "name": "stdout",
     "output_type": "stream",
     "text": [
      "['Home - Drax Global', ' ', ' ', ' ', 'Pellet Sales', 'Energy Solutions', 'Careers', 'Resources', 'Contact Us', 'Visit Us', ' ', 'Pellet Sales', 'We believe investing in our people goes hand-in-hand with enabling the green energy transformation and positive future growth.', 'Careers', 'Current Vacancies', 'Career FAQs', 'Non-Permanent Vacancies', ' ', 'The jobs and careers supporting the UK’s net zero future >', 'Energy Solutions', 'Information about our business, partnerships and campaigns, as well as photos, graphics and multimedia assets for journalists, and educational materials for schools.', 'Resources', 'Campaigns and Trade Organisations', 'Educational Resources', 'Video', 'Graphics', 'Photos', 'Reports and Factsheets', 'Bioenergy carbon capture usage and storage (CCUS / BECCS)', 'Drax frequently asked questions (FAQs)', 'Economic and social impact of Drax', 'Electric Insights', 'Energy and climate policy', 'Energy storage', 'Forests and biomass', 'Transport', ' ', 'Can carbon capture take the UK beyond net zero? >', 'Careers', 'We believe investing in our people goes hand-in-hand with enabling the green energy transformation and positive future growth.', 'Careers', 'Current Vacancies', 'Career FAQs', 'Non-Permanent Vacancies', ' ', 'The jobs and careers supporting the UK’s net zero future >', 'Resources', 'Information about our business, partnerships and campaigns, as well as photos, graphics and multimedia assets for journalists, and educational materials for schools.', 'Resources', 'Campaigns and Trade Organisations', 'Educational Resources', 'Video', 'Graphics', 'Photos', 'Reports and Factsheets', 'Bioenergy carbon capture usage and storage (CCUS / BECCS)', 'Drax frequently asked questions (FAQs)', 'Economic and social impact of Drax', 'Electric Insights', 'Energy and climate policy', 'Energy storage', 'Forests and biomass', 'Transport', ' ', 'Can carbon capture take the UK beyond net zero? >', 'Contact Us', 'Call Us', 'Contact Us Enquiry Form', 'Phone Numbers', 'Media Contacts', 'Registered Office', 'Visit', 'Procurement', ' ', 'Visit Us', 'Our power stations and projects are part of their communities. Post-COVID, we will again welcome visits from schools, stakeholders and the public.', '\\xa0', 'Tours and Events', 'Visit Skylark Centre and Nature Reserve, Drax Power Station', 'Visit Power Stations', 'Visit Cruachan Power Station', 'Visit Drax Power Station', ' ', 'In energy storage timing is everything >', 'What We Do', 'Sustainability', 'News', 'Investors', 'About Us', 'Carbon Removals', '                Global            ', ' ', ' ', 'What We Do', 'We’re committed to enabling a zero carbon, lower cost energy future through engineering, technology and innovation.', 'Carbon Removals', 'What is bioenergy with carbon capture and storage (BECCS)?', 'Carbon negative by 2030', 'BECCS delivery', 'Carbon Removals by Drax', 'US BECCS', 'Coalition for Negative Emissions', 'Zero Carbon Humber', 'Biomass', 'What is biomass?', 'The role biomass plays', 'Where does biomass come from?', 'Our biomass supply chain', 'Pellet Sales', 'Pumped Storage Hydro', 'What is pumped storage hydro?', 'Cruachan Power Station', 'Cruachan expansion', 'Visit Cruachan – The Hollow Mountain (Ext)', 'Our Sites & Businesses', 'Drax Power Station', 'Cruachan Power Station', 'Hydro-electric schemes', 'Daldowie Fuel Plant', 'Drax Energy Solutions', 'Opus Energy', 'North America Operations', 'Community', ' ', 'The role of biomass in securing reliable power generation >', 'Sustainability', 'We’re building for a sustainable future in how we source our biomass, generate energy, remove carbon dioxide and function as a business.', 'Our Approach', 'ESG Ratings', 'Climate Policy', 'ESG data supplement', 'Sustainable Bioenergy', 'Catchment Area Analyses', 'ForestScope', 'Independent Advisory Board on Sustainable Biomass', 'Responsible Sourcing (policy)', 'Appendix to Responsible Sourcing', 'Sourcing Sustainable Biomass', 'The Biomass Carbon Calculator', 'What is a biomass wood pellet?', 'What is biomass?', 'Carbon Emissions', 'Taskforce on Climate Related Financial Disclosures', 'Towards Carbon Negative', 'Environmental Impact', 'Health, Safety and Wellbeing', 'Ethics and Integrity', 'People, Culture, and Values', 'Positive Social Impact', ' ', 'Sustainable Bioenergy >', 'News', 'Read our carbon capture, sustainable bioenergy and power generation stories, as well as thinking from Drax’s leaders and business updates.', 'Stories', 'Opinion', 'Financial News', 'Press Releases', 'Media Contacts', ' ', 'Progressing Global BECCS opportunities >', 'Investors', 'Explore a comprehensive guide to our business model and investor relations.', 'Announcements, Events & Reports', 'AGMs and General Meetings', 'Annual Reports and Accounts', 'Financial Calendar', 'Full and Half Year Results', 'Presentations', 'Trading Updates', 'Regulatory news', 'Corporate Governance', 'Debt', 'Investor Resources', 'Investor contacts', 'Equity investors FAQ', 'Key investor facts', 'Shareholder Information', 'Share price', 'Financial history', 'Dividends', 'Shareholders', 'Directors’ interests', 'Annual Report', ' ', 'Full year results for the twelve months ended 31 December 2022 >', 'About Us', 'Drax Group’s ambition is to become a carbon negative business by 2030, through innovative greenhouse gas removal technology.', 'Drax at a glance', 'Our purpose & strategy', 'Business model', 'Where We Operate', 'Our History', 'Corporate Governance', 'Board & Committees', 'Compliance and Policies', 'REMIT', ' ', 'Critical role supporting UK energy system and progress with BECCS >', 'Search', ' ', 'Drax Global', 'United Kingdom', 'Japan', 'United States', 'Canada', ' ', 'What We Do', 'Carbon Removals', 'What is bioenergy with carbon capture and storage (BECCS)?', 'Carbon negative by 2030', 'BECCS delivery', 'Carbon Removals by Drax', 'US BECCS', 'Coalition for Negative Emissions', 'Zero Carbon Humber', 'Biomass', 'What is biomass?', 'The role biomass plays', 'Where does biomass come from?', 'Our biomass supply chain', 'Pellet Sales', 'Pumped Storage Hydro', 'What is pumped storage hydro?', 'Cruachan Power Station', 'Cruachan expansion', 'Visit Cruachan – The Hollow Mountain (Ext)', 'Our Sites & Businesses', 'Drax Power Station', 'Cruachan Power Station', 'Hydro-electric schemes', 'Daldowie Fuel Plant', 'Drax Energy Solutions', 'Opus Energy', 'North America Operations', 'Community', ' ', 'Sustainability', 'Our Approach', 'ESG Ratings', 'Climate Policy', 'ESG data supplement', 'Sustainable Bioenergy', 'Catchment Area Analyses', 'ForestScope', 'Independent Advisory Board on Sustainable Biomass', 'Responsible Sourcing (policy)', 'Appendix to Responsible Sourcing', 'Sourcing Sustainable Biomass', 'The Biomass Carbon Calculator', 'What is a biomass wood pellet?', 'What is biomass?', 'Carbon Emissions', 'Taskforce on Climate Related Financial Disclosures', 'Towards Carbon Negative', 'Environmental Impact', 'Health, Safety and Wellbeing', 'Ethics and Integrity', 'People, Culture, and Values', 'Positive Social Impact', ' ', 'News', 'Stories', 'Opinion', 'Financial News', 'Press Releases', 'Media Contacts', ' ', 'Investors', 'Announcements, Events & Reports', 'AGMs and General Meetings', 'Annual Reports and Accounts', 'Financial Calendar', 'Full and Half Year Results', 'Presentations', 'Trading Updates', 'Regulatory news', 'Corporate Governance', 'Debt', 'Investor Resources', 'Investor contacts', 'Equity investors FAQ', 'Key investor facts', 'Shareholder Information', 'Share price', 'Financial history', 'Dividends', 'Shareholders', 'Directors’ interests', 'Annual Report', ' ', 'About Us', 'Drax at a glance', 'Our purpose & strategy', 'Business model', 'Where We Operate', 'Our History', 'Corporate Governance', 'Board & Committees', 'Compliance and Policies', 'REMIT', ' ', 'Carbon Removals', 'Pellet Sales', 'Energy Solutions', 'Careers', 'Careers', 'Current Vacancies', 'Career FAQs', 'Non-Permanent Vacancies', ' ', 'Resources', 'Resources', 'Campaigns and Trade Organisations', 'Educational Resources', 'Video', 'Graphics', 'Photos', 'Reports and Factsheets', 'Bioenergy carbon capture usage and storage (CCUS / BECCS)', 'Drax frequently asked questions (FAQs)', 'Economic and social impact of Drax', 'Electric Insights', 'Energy and climate policy', 'Energy storage', 'Forests and biomass', 'Transport', ' ', 'Contact Us', 'Call Us', 'Contact Us Enquiry Form', 'Phone Numbers', 'Media Contacts', 'Registered Office', 'Visit', 'Procurement', ' ', 'Visit Us', 'Tours and Events', 'Visit Skylark Centre and Nature Reserve, Drax Power Station', 'Visit Power Stations', 'Visit Cruachan Power Station', 'Visit Drax Power Station', ' ', ' ', 'Raising the Standard in Carbon Removals', '                            Read more                            ', 'Drax Power Station Live Generation: ', 'Disclaimer ', ' ', 'Latest Stories', ' ', ' ', 'Investors', 'Trading Update – Strong System Support Performance', ' ', ' ', ' ', ' ', ' ', 'Press Releases', 'Drax Foundation donates nearly £1m to support STEM education and community initiatives in the UK and North America', ' ', ' ', ' ', ' ', ' ', 'Press Releases', 'Drax partners with Patch to enhance carbon credit offering', ' ', ' ', ' ', ' ', ' ', 'Press Releases', 'Drax Foundation funds bursary to support underrepresented young people into engineering', ' ', ' ', ' ', ' ', ' ', 'Opinion', 'Raising the Standard in Carbon Removals', ' ', ' ', ' ', ' ', ' ', 'Press Releases', 'On pawtrol: Sparky the Robodog enhances safety at UK’s largest renewable power station', ' ', ' ', ' ', ' ', ' ', 'Investors', 'Track-1 expansion process update', ' ', ' ', ' ', ' ', ' ', 'Opinion', 'Can the EU lead certification of carbon removals globally?', ' ', ' ', ' ', ' ', ' ', 'Opinion', 'Hear from the experts: the world needs carbon removals', ' ', ' ', ' ', 'Drax Power Station Live Generation: ', 'Disclaimer ', ' ', 'The role of biomass in securing reliable power generation', 'At a time of uncertainty around global fuel supplies, biomass and pumped storage hydro offer reliable sources of power to secure the UK electricity grid', 'Read More', ' ', 'Can the EU lead certification of carbon removals globally?', 'By doubling down on its climate leadership, the EU can spearhead efforts to set standards for carbon dioxide removals, including BECCS. ', 'Read More', 'Hear from the experts: the world needs carbon removals', 'Capturing the opportunity Drax has an ambition to be a global leader in carbon removals and we have bold plans to eradicate 14 million tonnes of carbon from the atmosphere a year by 2030. The scale of this ambition reflects what I see as a once-in-a-lifetime opportunity to be a founding player in a market', '... Read more »', 'Read More', ' ', ' ', 'Progressing Global BECCS opportunities', '\\t\\t\\t\\t\\t\\t\\tRead More\\t\\t\\t\\t\\t\\t\\t', ' ', 'Top Stories', ' ', ' ', 'Electrification', 'Storage solutions: 3 ways energy storage can get the grid to net zero', ' ', ' ', ' ', ' ', ' ', 'Sustainable bioenergy', 'Forests, net zero and the science behind biomass', ' ', ' ', ' ', ' ', ' ', 'Carbon capture', 'Transporting carbon – How to safely move CO', '2', ' from the atmosphere to permanent storage', ' ', ' ', ' ', 'View All', ' ', ' ', ' ', 'Name: ', 'Email: ', 'Comment: ', 'Sign up for updates from Drax', 'Sign up to receive our email newsletter to receive a regular roundup of Drax Group news and announcements', 'Enter your email', '*', '*Required', 'Select a country', '*', 'United Kingdom', 'United States of America', 'Canada', 'Japan', 'Aaland Islands', 'Afghanistan', 'Albania', 'Algeria', 'American Samoa', 'Andorra', 'Angola', 'Anguilla', 'Antarctica', 'Antigua And Barbuda', 'Argentina', 'Armenia', 'Aruba', 'Australia', 'Austria', 'Azerbaijan', 'Bahamas', 'Bahrain', 'Bangladesh', 'Barbados', 'Belarus', 'Belgium', 'Belize', 'Benin', 'Bermuda', 'Bhutan', 'Bolivia', 'Bonaire, Saint Eustatius and Saba', 'Bosnia and Herzegovina', 'Botswana', 'Bouvet Island', 'Brazil', 'British Indian Ocean Territory', 'Brunei Darussalam', 'Bulgaria', 'Burkina Faso', 'Burundi', 'Cambodia', 'Cameroon', 'Cape Verde', 'Cayman Islands', 'Central African Republic', 'Chad', 'Chile', 'China', 'Christmas Island', 'Cocos (Keeling) Islands', 'Colombia', 'Comoros', 'Congo', 'Cook Islands', 'Costa Rica', \"Cote D'Ivoire\", 'Croatia', 'Cuba', 'Curacao', 'Cyprus', 'Czech Republic', 'Democratic Republic of the Congo', 'Denmark', 'Djibouti', 'Dominica', 'Dominican Republic', 'Ecuador', 'Egypt', 'El Salvador', 'Equatorial Guinea', 'Eritrea', 'Estonia', 'Ethiopia', 'Falkland Islands', 'Faroe Islands', 'Fiji', 'Finland', 'France', 'French Guiana', 'French Polynesia', 'French Southern Territories', 'Gabon', 'Gambia', 'Georgia', 'Germany', 'Ghana', 'Gibraltar', 'Greece', 'Greenland', 'Grenada', 'Guadeloupe', 'Guam', 'Guatemala', 'Guernsey', 'Guinea', 'Guinea-Bissau', 'Guyana', 'Haiti', 'Heard and Mc Donald Islands', 'Honduras', 'Hong Kong', 'Hungary', 'Iceland', 'India', 'Indonesia', 'Iran', 'Iraq', 'Ireland', 'Isle of Man', 'Israel', 'Italy', 'Jamaica', 'Jersey  (Channel Islands)', 'Jordan', 'Kazakhstan', 'Kenya', 'Kiribati', 'Kuwait', 'Kyrgyzstan', \"Lao People's Democratic Republic\", 'Latvia', 'Lebanon', 'Lesotho', 'Liberia', 'Libya', 'Liechtenstein', 'Lithuania', 'Luxembourg', 'Macau', 'Macedonia', 'Madagascar', 'Malawi', 'Malaysia', 'Maldives', 'Mali', 'Malta', 'Marshall Islands', 'Martinique', 'Mauritania', 'Mauritius', 'Mayotte', 'Mexico', 'Micronesia, Federated States of', 'Moldova, Republic of', 'Monaco', 'Mongolia', 'Montenegro', 'Montserrat', 'Morocco', 'Mozambique', 'Myanmar', 'Namibia', 'Nauru', 'Nepal', 'Netherlands', 'Netherlands Antilles', 'New Caledonia', 'New Zealand', 'Nicaragua', 'Niger', 'Nigeria', 'Niue', 'Norfolk Island', 'North Korea', 'Northern Mariana Islands', 'Norway', 'Oman', 'Pakistan', 'Palau', 'Palestine', 'Panama', 'Papua New Guinea', 'Paraguay', 'Peru', 'Philippines', 'Pitcairn', 'Poland', 'Portugal', 'Puerto Rico', 'Qatar', 'Republic of Kosovo', 'Reunion', 'Romania', 'Russia', 'Rwanda', 'Saint Kitts and Nevis', 'Saint Lucia', 'Saint Martin', 'Saint Vincent and the Grenadines', 'Samoa (Independent)', 'San Marino', 'Sao Tome and Principe', 'Saudi Arabia', 'Senegal', 'Serbia', 'Seychelles', 'Sierra Leone', 'Singapore', 'Sint Maarten', 'Slovakia', 'Slovenia', 'Solomon Islands', 'Somalia', 'South Africa', 'South Georgia and the South Sandwich Islands', 'South Korea', 'South Sudan', 'Spain', 'Sri Lanka', 'St. Helena', 'St. Pierre and Miquelon', 'Sudan', 'Suriname', 'Svalbard and Jan Mayen Islands', 'Swaziland', 'Sweden', 'Switzerland', 'Syria', 'Taiwan', 'Tajikistan', 'Tanzania', 'Thailand', 'Timor-Leste', 'Togo', 'Tokelau', 'Tonga', 'Trinidad and Tobago', 'Tunisia', 'Turkiye', 'Turkmenistan', 'Turks & Caicos Islands', 'Turks and Caicos Islands', 'Tuvalu', 'Uganda', 'Ukraine', 'United Arab Emirates', 'Uruguay', 'USA Minor Outlying Islands', 'Uzbekistan', 'Vanuatu', 'Vatican City State (Holy See)', 'Venezuela', 'Vietnam', 'Virgin Islands (British)', 'Virgin Islands (U.S.)', 'Wallis and Futuna Islands', 'Western Sahara', 'Yemen', 'Zambia', 'Zimbabwe', '*Required', 'Next', 'Choose your interests', 'Choose which Drax locations you’d like updates from:\\xa0', 'Drax location of interest', '*', 'All locations', 'UK (All)', 'Yorkshire & Humber', 'Scotland', 'US (All)', 'Alabama', 'Arkansas', 'California', 'Louisiana', 'Mississippi', 'Texas', 'Canada (All)', 'Alberta', 'British Columbia', 'Quebec', 'Japan', '*Required', 'Select the specific Drax news you’d like to hear about:', ' ', 'All News', ' ', ' ', ' ', 'Sustainability News', ' ', ' ', ' ', 'Corporate News', ' ', ' ', ' ', 'Community News', ' ', ' ', ' ', 'Financial News', ' ', ' ', '*Required', ' ', '\\t\\t\\t\\t\\t\\tPrevious', '\\t\\t\\t\\t\\t', 'Next', 'Marketing Permissions', 'Select all the ways you would like to hear from Drax:', ' ', ' ', 'Email', ' ', ' ', ' ', '*Required', 'You can unsubscribe at any time by clicking the link in the footer of our emails. This site is protected by reCAPTCHA and the Google ', 'Privacy Policy', ' and ', 'Terms of Service', ' apply. ', 'Learn about our privacy practices', '.', ' ', '\\t\\t\\t\\t\\t\\t\\tPrevious', '\\t\\t\\t\\t\\t\\t', 'Thank you for subscribing!', 'Welcome to Friends of Drax.', 'Error', 'Return', ' ', 'Contact Us', ' ', 'Contact Us', ' ', 'Accessibility', 'Compliance', 'Disclaimer', 'Modern Slavery Act', 'Privacy notices', 'Sitemap', 'REMIT', 'Terms of use', 'Website terms and conditions', 'Drax US', ' ', 'Drax Canada', ' ', 'Drax Global']\n"
     ]
    }
   ],
   "source": [
    "url = \"https://www.drax.com/\"\n",
    "content,type = fetch_content(url)\n",
    "extracted_text = clean_html_and_extract_text(content)\n",
    "text_folder = os.path.join(\"crawled_data-1\", 'html_text_files')\n",
    "filename = generate_filename(url)\n",
    "save_to_file(extracted_text, text_folder, filename + \"_extracted_text.txt\")"
   ]
  },
  {
   "cell_type": "code",
=======
>>>>>>> a13da7941e126ae604f32e0bbe98498ebf2f1358
   "execution_count": 6,
   "id": "8bb2ca10-fb6b-49f1-8ccb-f948377b58ed",
   "metadata": {},
   "outputs": [],
   "source": [
    "def save_pdf_to_file(pdf_content, folder, filename):\n",
    "    try:\n",
    "        pdf_folder = os.path.join(folder, 'pdf_files')\n",
    "        os.makedirs(pdf_folder, exist_ok=True)  # Ensure the folder exists\n",
    "        file_path = os.path.join(pdf_folder, filename + \"_pdf.pdf\")\n",
    "        with open(file_path, 'wb') as file:\n",
    "            file.write(pdf_content)\n",
    "\n",
    "        # Extract text from the downloaded PDF file\n",
    "        pdf_text = extract_text_from_pdf(file_path)\n",
    "\n",
    "        pdf_text_folder = os.path.join(folder, 'pdf_text_files')\n",
    "        os.makedirs(pdf_text_folder, exist_ok=True)  # Ensure the folder exists\n",
    "        text_file_path = os.path.join(pdf_text_folder, filename + \"_pdf_extracted_text.txt\")\n",
    "        if pdf_text:\n",
    "            with open(text_file_path, 'w', encoding='utf-8') as text_file:\n",
    "                text_file.write(pdf_text)\n",
    "    except Exception as e:\n",
    "        print(f\"Error saving PDF to file. Error: {e}\")"
   ]
  },
  {
   "cell_type": "code",
   "execution_count": 7,
   "id": "54a0180b-82cf-445c-a86a-3c3fa90ae11a",
   "metadata": {},
   "outputs": [],
   "source": [
    "def extract_text_from_pdf(pdf_path):\n",
    "    text = ''\n",
    "    try:\n",
    "        with fitz.open(pdf_path) as pdf_document:\n",
    "            for page_number in range(pdf_document.page_count):\n",
    "                page = pdf_document[page_number]\n",
    "                text += page.get_text()\n",
    "    except Exception as e:\n",
    "        print(f\"Error extracting text from PDF. Error: {e}\")\n",
    "    return text"
   ]
  },
  {
   "cell_type": "code",
<<<<<<< HEAD
   "execution_count": null,
=======
   "execution_count": 14,
>>>>>>> a13da7941e126ae604f32e0bbe98498ebf2f1358
   "id": "5494c1d9-70b5-4e31-a2e2-ade857106ee7",
   "metadata": {},
   "outputs": [],
   "source": [
    "def crawl_url(url, folder_path):\n",
    "    try:\n",
    "        content, content_type = fetch_content(url)\n",
    "\n",
    "        if content is not None and content_type:\n",
    "            filename = generate_filename(url)\n",
    "\n",
    "            if content_type == 'pdf':\n",
    "                save_pdf_to_file(content, folder_path, filename + \"_pdf.pdf\")\n",
    "            else:\n",
<<<<<<< HEAD
    "                # Handle HTML content \n",
=======
    "                # Handle HTML content as before\n",
>>>>>>> a13da7941e126ae604f32e0bbe98498ebf2f1358
    "                html_content = content\n",
    "                extracted_text = clean_html_and_extract_text(html_content)\n",
    "                html_folder = os.path.join(folder_path, 'html_files')\n",
    "                save_to_file(html_content, html_folder, filename + \"_html.html\")\n",
    "                text_folder = os.path.join(folder_path, 'html_text_files')\n",
    "                save_to_file(extracted_text, text_folder, filename + \"_extracted_text.txt\")\n",
    "        else:\n",
    "            filename = generate_filename(url)\n",
    "            error_folder=os.path.join(folder_path,'error_files')\n",
    "            save_to_file(url, error_folder, filename)\n",
    "            \n",
    "    except Exception as e:\n",
    "        print(f\"Error crawling URL {url}. Error: {e}\")"
   ]
  },
  {
   "cell_type": "code",
   "execution_count": 23,
   "id": "0590df0b-931e-497b-a0e3-efe8ac7c377c",
   "metadata": {},
   "outputs": [],
   "source": [
    "def main():\n",
    "    try:\n",
    "        sitemap_path = 'drax_sitemap.xml'\n",
    "        urls = parse_sitemap(sitemap_path)\n",
    "        urls=set(urls)\n",
    "        urls=list(urls)\n",
    "        for url in urls:\n",
    "            filename = generate_filename(url)\n",
    "            folder_to_store = \"crawled_data\"\n",
    "            crawl_url(url, folder_to_store)\n",
    "    except Exception as e:\n",
    "        print(f\"An unexpected error occurred. Error: {e}\")"
   ]
  },
  {
   "cell_type": "code",
   "execution_count": 24,
   "id": "97ba715c-a8cd-49d1-8f72-bb74325d7171",
   "metadata": {},
   "outputs": [
    {
     "name": "stdout",
     "output_type": "stream",
     "text": [
      "Error saving to file. Error: [Errno 2] No such file or directory: 'crawled_data\\\\html_text_files\\\\crawled_524279b4cb762b3fac9353ca6d64cdfb_press_release_drax-power-ceo-andy-koss-says-innovation-transform-regions-energy-sector-northern-powerhouse-partnership-releases-prime-capabilities-report__extracted_text.txt'\n",
      "Error saving to file. Error: [Errno 2] No such file or directory: 'crawled_data\\\\html_text_files\\\\crawled_14519de1f15c9d75bcb837a42ca22576_press_release_drax-welcomes-cccs-call-for-faster-progress-in-delivering-uk-carbon-removals-and-confirms-decommissioning-of-coal-units-will-continue__extracted_text.txt'\n",
      "Failed to fetch content from https://www.drax.com/ca/wp-content/uploads/sites/7/2022/08/SBPCERT-Entwistle.pdf. Error: 500 Server Error: Internal Server Error for url: https://www.drax.com/ca/wp-content/uploads/sites/7/2022/08/SBPCERT-Entwistle.pdf\n",
      "Error saving PDF to file. Error: [Errno 2] No such file or directory: 'crawled_data\\\\pdf_files\\\\crawled_1a824934f5505cd7a2ed860162c8539e_2018_06_Publication-Pricing-of-offering-of-senior-secured-notes-due-November-2025-to-redeem-in-full-senior-secured-floating-rate-notes-due-May-2022-2018-04-12.pdf_pdf.pdf_pdf.pdf'\n",
      "Failed to fetch content from https://www.drax.com/us/wp-content/uploads/sites/7/2022/08/Supply-Base-Report-Morehouse-BioEnergy-LLC-First-Surveillance-Aud.pdf. Error: 500 Server Error: Internal Server Error for url: https://www.drax.com/us/wp-content/uploads/sites/7/2022/08/Supply-Base-Report-Morehouse-BioEnergy-LLC-First-Surveillance-Aud.pdf\n",
      "Failed to fetch content from https://www.drax.com/ca/wp-content/uploads/sites/7/2022/08/Supply-Base-Report-Meadowbank-LP.pdf. Error: 500 Server Error: Internal Server Error for url: https://www.drax.com/ca/wp-content/uploads/sites/7/2022/08/Supply-Base-Report-Meadowbank-LP.pdf\n",
      "Failed to fetch content from https://www.drax.com/ca/wp-content/uploads/sites/7/2022/08/Supply-Base-Report-Houston-LP.pdf. Error: 500 Server Error: Internal Server Error for url: https://www.drax.com/ca/wp-content/uploads/sites/7/2022/08/Supply-Base-Report-Houston-LP.pdf\n",
      "Failed to fetch content from https://www.drax.com/northamerica/wp-content/uploads/sites/7/2022/08/Supply-Base-Report-Lavington-LP.pdf. Error: 500 Server Error: Internal Server Error for url: https://www.drax.com/us/wp-content/uploads/sites/7/2022/08/Supply-Base-Report-Lavington-LP.pdf\n",
      "Error saving to file. Error: [Errno 2] No such file or directory: 'crawled_data\\\\html_files\\\\crawled_5435a9b65472cde558589fa0bc7ed11c_press_release_businesses-from-across-the-region-come-together-to-learn-how-they-can-contribute-to-building-the-worlds-biggest-carbon-capture-project-at-drax-2__html.html'\n",
      "Error saving to file. Error: [Errno 2] No such file or directory: 'crawled_data\\\\html_text_files\\\\crawled_5435a9b65472cde558589fa0bc7ed11c_press_release_businesses-from-across-the-region-come-together-to-learn-how-they-can-contribute-to-building-the-worlds-biggest-carbon-capture-project-at-drax-2__extracted_text.txt'\n",
      "Error saving PDF to file. Error: [Errno 2] No such file or directory: 'crawled_data\\\\pdf_text_files\\\\crawled_9e13da6ac6d7b7f7faa41fd54012e1db_2018_12_Publication-Result-of-General-Meeting-to-acquire-flexible-low-carbon-and-renewable-UK-power-generation-from-Iberdrola-2018-12-21.pdf_pdf.pdf_pdf_extracted_text.txt'\n",
      "Failed to fetch content from https://www.drax.com/ca/wp-content/uploads/sites/7/2022/08/SBPCERT-Burns-Lake.pdf. Error: 500 Server Error: Internal Server Error for url: https://www.drax.com/ca/wp-content/uploads/sites/7/2022/08/SBPCERT-Burns-Lake.pdf\n",
      "Error saving to file. Error: [Errno 2] No such file or directory: 'crawled_data\\\\html_text_files\\\\crawled_92c78b76dc2336421620cce8eefbf20c_press_release_negative-emissions-pioneer-drax-and-leading-global-carbon-capture-company-mitsubishi-heavy-industries-group-announce-new-beccs-pilot__extracted_text.txt'\n",
      "Failed to fetch content from https://www.drax.com/us/wp-content/uploads/sites/7/2022/08/Supply-Base-Report-Arkansas-Bioenergy-LLC-Russellville-Main-In.pdf. Error: 500 Server Error: Internal Server Error for url: https://www.drax.com/us/wp-content/uploads/sites/7/2022/08/Supply-Base-Report-Arkansas-Bioenergy-LLC-Russellville-Main-In.pdf\n",
      "Error saving PDF to file. Error: [Errno 2] No such file or directory: 'crawled_data\\\\pdf_files\\\\crawled_14aa1b3c5dfa5989dd6d0c1d7965739f_2020_05_PM-L-Secretary-of-State-for-Business-Energy-and-Industrial-Strategy-Application-to-make-a-non-material-change-to-the-Progress-Power-Gas-Fired-Power-Station-Order-2015-27-05-2020.pdf_pdf.pdf_pdf.pdf'\n",
      "Failed to fetch content from https://www.drax.com/ca/wp-content/uploads/sites/7/2022/08/SBPCERT-Lavington-LP.pdf. Error: 500 Server Error: Internal Server Error for url: https://www.drax.com/ca/wp-content/uploads/sites/7/2022/08/SBPCERT-Lavington-LP.pdf\n",
      "Failed to fetch content from https://www.drax.com/us/wp-content/uploads/sites/7/2022/08/Supply-Base-Report-Amite-BioEnergy-LLC-First-Surveillance-Audit-2021-3.pdf. Error: 500 Server Error: Internal Server Error for url: https://www.drax.com/us/wp-content/uploads/sites/7/2022/08/Supply-Base-Report-Amite-BioEnergy-LLC-First-Surveillance-Audit-2021-3.pdf\n",
      "Failed to fetch content from https://www.drax.com/us/wp-content/uploads/sites/7/2022/08/Supply-Base-Report-LaSalle-BioEnergy-LLC-Fourth-Surveillance-Audi.pdf. Error: 500 Server Error: Internal Server Error for url: https://www.drax.com/us/wp-content/uploads/sites/7/2022/08/Supply-Base-Report-LaSalle-BioEnergy-LLC-Fourth-Surveillance-Audi.pdf\n",
      "Error saving to file. Error: [Errno 2] No such file or directory: 'crawled_data\\\\html_text_files\\\\crawled_75e00ede2f97c0624fadc5abcab9d016_investors_publication-circular-notice-general-meeting-relation-proposed-acquisition-flexible-low-carbon-renewable-uk-power-generation-iberdrola__extracted_text.txt'\n",
      "Error saving to file. Error: [Errno 2] No such file or directory: 'crawled_data\\\\html_files\\\\crawled_f45da32f4acc6dd5ac1155092e5c4144_press_release_drax%e3%80%81%e4%ba%8b%e6%a5%ad%e3%82%92%e3%82%a2%e3%82%b8%e3%82%a2%e3%81%b8%e3%81%a8%e6%8b%a1%e5%a4%a7%e3%81%97%e3%81%a6%e5%86%8d%e7%94%9f%e5%8f%af%e8%83%bd%e3%82%a8%e3%83%8d%e3%83%ab%e3%82%ae__html.html'\n",
      "Error saving to file. Error: [Errno 2] No such file or directory: 'crawled_data\\\\html_text_files\\\\crawled_f45da32f4acc6dd5ac1155092e5c4144_press_release_drax%e3%80%81%e4%ba%8b%e6%a5%ad%e3%82%92%e3%82%a2%e3%82%b8%e3%82%a2%e3%81%b8%e3%81%a8%e6%8b%a1%e5%a4%a7%e3%81%97%e3%81%a6%e5%86%8d%e7%94%9f%e5%8f%af%e8%83%bd%e3%82%a8%e3%83%8d%e3%83%ab%e3%82%ae__extracted_text.txt'\n",
      "Failed to fetch content from https://www.drax.com/ca/wp-content/uploads/sites/7/2022/08/Supply-Base-Report-Burns-Lake.pdf. Error: 500 Server Error: Internal Server Error for url: https://www.drax.com/ca/wp-content/uploads/sites/7/2022/08/Supply-Base-Report-Burns-Lake.pdf\n",
      "Failed to fetch content from https://www.drax.com/media/56583/biomass-supply-report-2014.pdf. Error: 404 Client Error: Not Found for url: https://www.drax.com/media/56583/biomass-supply-report-2014.pdf\n",
      "Error saving to file. Error: [Errno 2] No such file or directory: 'crawled_data\\\\html_files\\\\crawled_dbbdd28d2038e3edd1d96b57e557e5b5_press_release_businesses-from-across-the-region-come-together-to-learn-how-they-can-contribute-to-building-the-worlds-biggest-carbon-capture-project-at-drax__html.html'\n",
      "Error saving to file. Error: [Errno 2] No such file or directory: 'crawled_data\\\\html_text_files\\\\crawled_dbbdd28d2038e3edd1d96b57e557e5b5_press_release_businesses-from-across-the-region-come-together-to-learn-how-they-can-contribute-to-building-the-worlds-biggest-carbon-capture-project-at-drax__extracted_text.txt'\n",
      "Failed to fetch content from https://www.drax.com/ca/wp-content/uploads/sites/12/2020/10/DR1061_Code-of-Conduct-external_GB_V003.pdf. Error: 404 Client Error: Not Found for url: https://www.drax.com/ca/wp-content/uploads/sites/12/2020/10/DR1061_Code-of-Conduct-external_GB_V003.pdf\n",
      "Failed to fetch content from https://www.drax.com/ca/wp-content/uploads/sites/12/2017/12/Future-biomass-renewables-portfolio-Poyry-Drax.pdf. Error: 404 Client Error: Not Found for url: https://www.drax.com/ca/wp-content/uploads/sites/12/2017/12/Future-biomass-renewables-portfolio-Poyry-Drax.pdf\n",
      "Error saving to file. Error: [Errno 2] No such file or directory: 'crawled_data\\\\html_files\\\\crawled_bd504638b4346a1f95b6722eb8b4ef96_press_release_drax-urges-uk-to-seize-the-opportunities-to-build-a-zero-carbon-economy-drax-group-director-of-corporate-affairs-clare-harbords-speech-to-the-british-chambers-of-commerce__html.html'\n",
      "Error saving to file. Error: [Errno 2] No such file or directory: 'crawled_data\\\\html_text_files\\\\crawled_bd504638b4346a1f95b6722eb8b4ef96_press_release_drax-urges-uk-to-seize-the-opportunities-to-build-a-zero-carbon-economy-drax-group-director-of-corporate-affairs-clare-harbords-speech-to-the-british-chambers-of-commerce__extracted_text.txt'\n",
      "Error saving to file. Error: [Errno 2] No such file or directory: 'crawled_data\\\\html_text_files\\\\crawled_ac0e127209b8271dfba2d3d9e517f311_press_release_drax-welcomes-cccs-call-for-faster-progress-in-delivering-uk-carbon-removals-and-confirms-decommissioning-of-coal-units-will-continue__extracted_text.txt'\n",
      "Failed to fetch content from https://www.drax.com/northamerica/wp-content/uploads/sites/7/2022/02/SBP-Cert-Alabama-Pellets-Aliceville-exp-Mar-20-2026-1.pdf. Error: 500 Server Error: Internal Server Error for url: https://www.drax.com/us/wp-content/uploads/sites/7/2022/02/SBP-Cert-Alabama-Pellets-Aliceville-exp-Mar-20-2026-1.pdf\n",
      "Failed to fetch content from https://www.drax.com/uk/media/56583/biomass-supply-report-2014.pdf. Error: 404 Client Error: Not Found for url: https://www.drax.com/uk/media/56583/biomass-supply-report-2014.pdf\n",
      "Failed to fetch content from https://www.drax.com/ca/wp-content/uploads/sites/7/2022/08/SBPCERT-Smithers-LP.pdf. Error: 500 Server Error: Internal Server Error for url: https://www.drax.com/ca/wp-content/uploads/sites/7/2022/08/SBPCERT-Smithers-LP.pdf\n",
      "Error saving to file. Error: [Errno 2] No such file or directory: 'crawled_data\\\\html_files\\\\crawled_63a0bee12608e823776578efb9547182_press_release_%e3%83%90%e3%82%a4%e3%82%aa%e3%83%9e%e3%82%b9%e3%81%af%e7%92%b0%e5%a2%83%e3%82%92%e5%ae%88%e3%82%8a%e3%80%81%e8%b1%8a%e3%81%8b%e3%81%ab%e3%81%99%e3%82%8b__html.html'\n",
      "Error saving to file. Error: [Errno 2] No such file or directory: 'crawled_data\\\\html_text_files\\\\crawled_63a0bee12608e823776578efb9547182_press_release_%e3%83%90%e3%82%a4%e3%82%aa%e3%83%9e%e3%82%b9%e3%81%af%e7%92%b0%e5%a2%83%e3%82%92%e5%ae%88%e3%82%8a%e3%80%81%e8%b1%8a%e3%81%8b%e3%81%ab%e3%81%99%e3%82%8b__extracted_text.txt'\n",
      "Failed to fetch content from https://www.drax.com/us/wp-content/uploads/sites/7/2022/08/Supply-Base-Report-Pinnacle-Renewable-Energy-Demopolis-Mill-Mai.pdf. Error: 500 Server Error: Internal Server Error for url: https://www.drax.com/us/wp-content/uploads/sites/7/2022/08/Supply-Base-Report-Pinnacle-Renewable-Energy-Demopolis-Mill-Mai.pdf\n",
      "Error saving to file. Error: [Errno 2] No such file or directory: 'crawled_data\\\\html_files\\\\crawled_25866d5d26b158a1569fc0c59fad3f37_press_release_drax-group-ceo-agrees-committee-climate-change-sustainably-sourced-biomass-will-play-essential-long-term-role-delivering-low-carbon-future-needed-meet-climate-targets__html.html'\n",
      "Error saving to file. Error: [Errno 2] No such file or directory: 'crawled_data\\\\html_text_files\\\\crawled_25866d5d26b158a1569fc0c59fad3f37_press_release_drax-group-ceo-agrees-committee-climate-change-sustainably-sourced-biomass-will-play-essential-long-term-role-delivering-low-carbon-future-needed-meet-climate-targets__extracted_text.txt'\n",
      "Failed to fetch content from https://www.drax.com/us/wp-content/uploads/sites/7/2022/02/COC_CRT_DraxMorehouse_022221_SBP.pdf. Error: 500 Server Error: Internal Server Error for url: https://www.drax.com/us/wp-content/uploads/sites/7/2022/02/COC_CRT_DraxMorehouse_022221_SBP.pdf\n",
      "Error saving PDF to file. Error: [Errno 2] No such file or directory: 'crawled_data\\\\pdf_files\\\\crawled_12d1ddbb14e47337198f6b53b5c9a30a_2019_01_Publication-Completion-of-the-acquisition-of-Scottish-Power-s-portfolio-of-pumped-storage-hydro-and-gas-fired-generation-assets-2019-01-02.pdf_pdf.pdf_pdf.pdf'\n",
      "Failed to fetch content from https://www.drax.com/ca/wp-content/uploads/sites/7/2022/08/SBPCERT-Armstrong.pdf. Error: 500 Server Error: Internal Server Error for url: https://www.drax.com/ca/wp-content/uploads/sites/7/2022/08/SBPCERT-Armstrong.pdf\n",
      "Error saving to file. Error: [Errno 2] No such file or directory: 'crawled_data\\\\html_text_files\\\\crawled_c452bee976f6b007f62dbdd31f4e8c2e_press_release_energy-white-paper-recognises-negative-emissions-and-sustainable-biomass-as-a-vital-technology-to-achieve-net-zero-drax-group-ceo__extracted_text.txt'\n",
      "Error saving PDF to file. Error: [Errno 2] No such file or directory: 'crawled_data\\\\pdf_files\\\\crawled_fcfe566ded258cc60432e48523038148_2020_05_PM-L-Secretary-of-State-for-Business-Energy-and-Industrial-Strategy-Application-to-make-a-non-material-change-to-the-Progress-Power-Gas-Fired-Power-Station-Order-2015-27-05-2020.pdf_pdf.pdf_pdf.pdf'\n",
      "Failed to fetch content from https://www.drax.com/us/wp-content/uploads/sites/7/2022/02/COC_CRT_DraxAmite_022221_SBP.pdf. Error: 500 Server Error: Internal Server Error for url: https://www.drax.com/us/wp-content/uploads/sites/7/2022/02/COC_CRT_DraxAmite_022221_SBP.pdf\n",
      "Error saving to file. Error: [Errno 2] No such file or directory: 'crawled_data\\\\html_files\\\\crawled_c998f95817a64e78ad40643fcf3d341b_press_release_drax-group-ceo-agrees-committee-climate-change-sustainably-sourced-biomass-will-play-essential-long-term-role-delivering-low-carbon-future-needed-meet-climate-targets__html.html'\n",
      "Error saving to file. Error: [Errno 2] No such file or directory: 'crawled_data\\\\html_text_files\\\\crawled_c998f95817a64e78ad40643fcf3d341b_press_release_drax-group-ceo-agrees-committee-climate-change-sustainably-sourced-biomass-will-play-essential-long-term-role-delivering-low-carbon-future-needed-meet-climate-targets__extracted_text.txt'\n",
      "Failed to fetch content from https://www.drax.com/us/wp-content/uploads/sites/10/2020/10/DR1061_Code-of-Conduct-external_GB_V003.pdf. Error: 404 Client Error: Not Found for url: https://www.drax.com/us/wp-content/uploads/sites/10/2020/10/DR1061_Code-of-Conduct-external_GB_V003.pdf\n",
      "Error saving to file. Error: [Errno 2] No such file or directory: 'crawled_data\\\\html_files\\\\crawled_8e1aa4b0d9021289f3d7eb2b43d1e245_press_release_drax-urges-uk-to-seize-the-opportunities-to-build-a-zero-carbon-economy-drax-group-director-of-corporate-affairs-clare-harbords-speech-to-the-british-chambers-of-commerce__html.html'\n",
      "Error saving to file. Error: [Errno 2] No such file or directory: 'crawled_data\\\\html_text_files\\\\crawled_8e1aa4b0d9021289f3d7eb2b43d1e245_press_release_drax-urges-uk-to-seize-the-opportunities-to-build-a-zero-carbon-economy-drax-group-director-of-corporate-affairs-clare-harbords-speech-to-the-british-chambers-of-commerce__extracted_text.txt'\n",
      "Failed to fetch content from https://www.drax.com/ca/wp-content/uploads/sites/7/2022/08/Supply-Base-Report-Entwistle.pdf. Error: 500 Server Error: Internal Server Error for url: https://www.drax.com/ca/wp-content/uploads/sites/7/2022/08/Supply-Base-Report-Entwistle.pdf\n",
      "Error saving to file. Error: [Errno 2] No such file or directory: 'crawled_data\\\\html_files\\\\crawled_9aaa9ea2d3c07cf4e0bdbe17d77d7034_press_release_drax-foundation-donates-more-than-430000-to-non-profits-focused-on-improving-access-to-stem-education-and-community-green-spaces-for-underserved-communities__html.html'\n",
      "Error saving to file. Error: [Errno 2] No such file or directory: 'crawled_data\\\\html_text_files\\\\crawled_9aaa9ea2d3c07cf4e0bdbe17d77d7034_press_release_drax-foundation-donates-more-than-430000-to-non-profits-focused-on-improving-access-to-stem-education-and-community-green-spaces-for-underserved-communities__extracted_text.txt'\n",
      "Failed to fetch content from https://www.drax.com/uk/wp-content/uploads/sites/8/2020/11/Drax-Supplier-Code-of-Conduct.pdf. Error: 404 Client Error: Not Found for url: https://www.drax.com/uk/wp-content/uploads/sites/8/2020/11/Drax-Supplier-Code-of-Conduct.pdf\n",
      "Error saving to file. Error: [Errno 2] No such file or directory: 'crawled_data\\\\html_text_files\\\\crawled_c0e0a9592a9a67a326d6f477d8789363_press_release_energy-white-paper-recognises-negative-emissions-and-sustainable-biomass-as-a-vital-technology-to-achieve-net-zero-drax-group-ceo__extracted_text.txt'\n",
      "Error saving to file. Error: [Errno 2] No such file or directory: 'crawled_data\\\\html_text_files\\\\crawled_ca11125c7276a5225a58235e49fe9c29_press_release_negative-emissions-pioneer-drax-and-leading-global-carbon-capture-company-mitsubishi-heavy-industries-group-announce-new-beccs-pilot__extracted_text.txt'\n",
      "Failed to fetch content from https://www.drax.com/ca/wp-content/uploads/sites/7/2022/08/SBPCERT-Williams-Lake.pdf. Error: 500 Server Error: Internal Server Error for url: https://www.drax.com/ca/wp-content/uploads/sites/7/2022/08/SBPCERT-Williams-Lake.pdf\n",
      "Failed to fetch content from https://www.drax.com/us/wp-content/uploads/sites/7/2022/08/Supply-Base-Report-Arkansas-Bioenergy-LLC-Leola-Main-Initial.pdf. Error: 500 Server Error: Internal Server Error for url: https://www.drax.com/us/wp-content/uploads/sites/7/2022/08/Supply-Base-Report-Arkansas-Bioenergy-LLC-Leola-Main-Initial.pdf\n",
      "Failed to fetch content from https://www.drax.com/ca/wp-content/uploads/sites/7/2022/08/Supply-Base-Report-Pinnacle-Renewable-Energy-Inc-Armstrong-Division-Re-assessment-2022.pdf. Error: 500 Server Error: Internal Server Error for url: https://www.drax.com/ca/wp-content/uploads/sites/7/2022/08/Supply-Base-Report-Pinnacle-Renewable-Energy-Inc-Armstrong-Division-Re-assessment-2022.pdf\n",
      "Error saving to file. Error: [Errno 2] No such file or directory: 'crawled_data\\\\html_files\\\\crawled_198d8f5a29e51bc998fa9831b17bfce0_press_release_backing-drax-will-ensure-the-government-hits-net-zero-targets-protects-uk-energy-security-regenerates-the-humber-and-leads-the-world-in-carbon-capture-technology__html.html'\n",
      "Error saving to file. Error: [Errno 2] No such file or directory: 'crawled_data\\\\html_text_files\\\\crawled_198d8f5a29e51bc998fa9831b17bfce0_press_release_backing-drax-will-ensure-the-government-hits-net-zero-targets-protects-uk-energy-security-regenerates-the-humber-and-leads-the-world-in-carbon-capture-technology__extracted_text.txt'\n",
      "Failed to fetch content from https://www.drax.com/uk/wp-content/uploads/sites/8/2020/10/DR1061_Code-of-Conduct-external_GB_V003.pdf. Error: 404 Client Error: Not Found for url: https://www.drax.com/uk/wp-content/uploads/sites/8/2020/10/DR1061_Code-of-Conduct-external_GB_V003.pdf\n",
      "Error saving to file. Error: [Errno 2] No such file or directory: 'crawled_data\\\\html_text_files\\\\crawled_2cbcf41ab8e5135c0a2d3f9d9abb9617_investors_publication-circular-notice-general-meeting-relation-proposed-acquisition-flexible-low-carbon-renewable-uk-power-generation-iberdrola__extracted_text.txt'\n",
      "Failed to fetch content from https://www.drax.com/ca/wp-content/uploads/sites/7/2022/08/SBPCERT-Meadowbank.pdf. Error: 500 Server Error: Internal Server Error for url: https://www.drax.com/ca/wp-content/uploads/sites/7/2022/08/SBPCERT-Meadowbank.pdf\n",
      "Failed to fetch content from https://www.drax.com/us/wp-content/uploads/sites/7/2022/03/COC_CRT_DraxRussellville_021122_SBP.pdf. Error: 500 Server Error: Internal Server Error for url: https://www.drax.com/us/wp-content/uploads/sites/7/2022/03/COC_CRT_DraxRussellville_021122_SBP.pdf\n",
      "Failed to fetch content from https://www.drax.com/ca/wp-content/uploads/sites/7/2022/08/Supply-Base-Report-Williams-Lake.pdf. Error: 500 Server Error: Internal Server Error for url: https://www.drax.com/ca/wp-content/uploads/sites/7/2022/08/Supply-Base-Report-Williams-Lake.pdf\n",
      "Failed to fetch content from https://www.drax.com/us/wp-content/uploads/sites/7/2022/02/COC_CRT_DraxLaSalle_121420_SBP1.pdf. Error: 500 Server Error: Internal Server Error for url: https://www.drax.com/us/wp-content/uploads/sites/7/2022/02/COC_CRT_DraxLaSalle_121420_SBP1.pdf\n",
      "Failed to fetch content from https://www.drax.com/us/wp-content/uploads/sites/7/2022/03/COC_CRT_DraxLeola_101521_SBP.pdf. Error: 500 Server Error: Internal Server Error for url: https://www.drax.com/us/wp-content/uploads/sites/7/2022/03/COC_CRT_DraxLeola_101521_SBP.pdf\n",
      "Failed to fetch content from https://www.drax.com/northamerica/wp-content/uploads/sites/7/2022/02/Alabama-Cluster-CAA_Final-metric.pdf. Error: 500 Server Error: Internal Server Error for url: https://www.drax.com/us/wp-content/uploads/sites/7/2022/02/Alabama-Cluster-CAA_Final-metric.pdf\n",
      "Error saving to file. Error: [Errno 2] No such file or directory: 'crawled_data\\\\html_text_files\\\\crawled_59de5e6881d87d279f678466e592de53_press_release_drax-power-ceo-andy-koss-says-innovation-transform-regions-energy-sector-northern-powerhouse-partnership-releases-prime-capabilities-report__extracted_text.txt'\n",
      "Failed to fetch content from https://www.drax.com/ca/wp-content/uploads/sites/7/2022/08/Pinnacle-Trader-SBPCERT.pdf. Error: 500 Server Error: Internal Server Error for url: https://www.drax.com/ca/wp-content/uploads/sites/7/2022/08/Pinnacle-Trader-SBPCERT.pdf\n",
      "Failed to fetch content from https://www.drax.com/wp-content/uploads/2021/04/Drax-Baringa-Report-Summary-2021.pdf. Error: 404 Client Error: Not Found for url: https://www.drax.com/wp-content/uploads/2021/04/Drax-Baringa-Report-Summary-2021.pdf\n",
      "Failed to fetch content from https://www.drax.com/us/wp-content/uploads/sites/10/2017/12/Future-biomass-renewables-portfolio-Poyry-Drax.pdf. Error: 404 Client Error: Not Found for url: https://www.drax.com/us/wp-content/uploads/sites/10/2017/12/Future-biomass-renewables-portfolio-Poyry-Drax.pdf\n",
      "Failed to fetch content from https://www.drax.com/uk/wp-content/uploads/sites/8/2017/12/Future-biomass-renewables-portfolio-Poyry-Drax.pdf. Error: 404 Client Error: Not Found for url: https://www.drax.com/uk/wp-content/uploads/sites/8/2017/12/Future-biomass-renewables-portfolio-Poyry-Drax.pdf\n",
      "Failed to fetch content from https://www.drax.com/ca/wp-content/uploads/sites/7/2022/08/SBPCERT-Houston-LP.pdf. Error: 500 Server Error: Internal Server Error for url: https://www.drax.com/ca/wp-content/uploads/sites/7/2022/08/SBPCERT-Houston-LP.pdf\n",
      "Failed to fetch content from https://www.drax.com/northamerica/wp-content/uploads/sites/7/2022/08/Supply-Base-Report-Alabama-Pellets-LLC-Aliceville-Division-Firs.pdf. Error: 500 Server Error: Internal Server Error for url: https://www.drax.com/us/wp-content/uploads/sites/7/2022/08/Supply-Base-Report-Alabama-Pellets-LLC-Aliceville-Division-Firs.pdf\n",
      "Error saving to file. Error: [Errno 2] No such file or directory: 'crawled_data\\\\html_text_files\\\\crawled_e6d0aa0a4f64114a620c4c7b7d9f38a7_press_release_drax-announces-partnership-with-federation-of-southern-cooperatives-to-drive-equal-access-to-us-forestry-for-african-american-landowners__extracted_text.txt'\n"
     ]
    }
   ],
   "source": [
    "main()"
   ]
  },
  {
   "cell_type": "code",
   "execution_count": null,
<<<<<<< HEAD
   "id": "1f8b093c-fcd4-4d83-b90c-12f52aa40700",
=======
   "id": "80711843-48fb-43e0-a718-524f06c0980d",
>>>>>>> a13da7941e126ae604f32e0bbe98498ebf2f1358
   "metadata": {},
   "outputs": [],
   "source": []
  }
 ],
 "metadata": {
  "kernelspec": {
   "display_name": "Python 3 (ipykernel)",
   "language": "python",
   "name": "python3"
  },
  "language_info": {
   "codemirror_mode": {
    "name": "ipython",
    "version": 3
   },
   "file_extension": ".py",
   "mimetype": "text/x-python",
   "name": "python",
   "nbconvert_exporter": "python",
   "pygments_lexer": "ipython3",
   "version": "3.11.2"
  }
 },
 "nbformat": 4,
 "nbformat_minor": 5
}
